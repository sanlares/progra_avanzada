{
 "cells": [
  {
   "cell_type": "code",
   "execution_count": 11,
   "metadata": {},
   "outputs": [],
   "source": [
    "from datetime import datetime, timedelta\n",
    "import datetime\n",
    "from airflow.models.dag import DAG\n",
    "from airflow.operators.python import PythonOperator\n",
    "import pandas as pd\n",
    "import boto3 \n",
    "from dotenv import load_dotenv\n",
    "from io import StringIO\n",
    "import os\n",
    "\n",
    "\n",
    "def import_raw(bucket = 'tpprogra'):\n",
    "    load_dotenv()  # Carga las variables de entorno del archivo .env\n",
    "\n",
    "    ACCESS_KEY = os.getenv('ACCESS_KEY')\n",
    "    SECRET_KEY=os.getenv('SECRET_KEY')\n",
    "\n",
    "    s3 = boto3.client( 's3',region_name='us-east-1', aws_access_key_id=ACCESS_KEY, aws_secret_access_key=SECRET_KEY)\n",
    "    bucket_name = bucket \n",
    "\n",
    "    ads_views = 'ads_views.csv'\n",
    "    file_object_ads_views = s3.get_object(Bucket=bucket_name, Key=ads_views) \n",
    "    df_ads_views = pd.read_csv(file_object_ads_views['Body'])\n",
    "\n",
    "\n",
    "    advertiser_ids = 'advertiser_ids.csv'\n",
    "    file_object_advertiser_ids = s3.get_object(Bucket=bucket_name, Key=advertiser_ids) \n",
    "    df_adverts = pd.read_csv(file_object_advertiser_ids['Body'])\n",
    "\n",
    "\n",
    "    product_views = 'product_views.csv'\n",
    "    file_object_product_views = s3.get_object(Bucket=bucket_name, Key=product_views) \n",
    "    df_products = pd.read_csv(file_object_product_views['Body'])\n",
    "\n",
    "    return df_ads_views, df_adverts, df_products"
   ]
  },
  {
   "cell_type": "code",
   "execution_count": 12,
   "metadata": {},
   "outputs": [],
   "source": [
    "#Definimos las tareas\n",
    "# tarea nro 1 filtrar los datos \n",
    "\n",
    "def filter_raw():\n",
    "    df_ads_views, df_adverts, df_products=import_raw()\n",
    "    \n",
    "    advertisers_activos = df_adverts\n",
    "    product_view = df_products\n",
    "    ads_views = df_ads_views\n",
    "    active_product_views = product_view [product_view[\"advertiser_id\"].isin(advertisers_activos[\"advertiser_id\"])]\n",
    "    active_ads_views = ads_views [ads_views[\"advertiser_id\"].isin(advertisers_activos[\"advertiser_id\"])]\n",
    "    \n",
    "    return active_product_views, active_ads_views\n",
    "\n",
    "\n",
    "def save_to_bucket(bucket = 'tpprogra'):\n",
    "    ACCESS_KEY = os.getenv('ACCESS_KEY')\n",
    "    SECRET_KEY=os.getenv('SECRET_KEY')\n",
    "    active_product_views, active_ads_views=filter_raw()\n",
    "    # Convertir el DataFrame a CSV\n",
    "    active_product_views_csv = StringIO()\n",
    "    active_product_views.to_csv(active_product_views_csv, index=False)\n",
    "\n",
    "    active_ads_views_csv = StringIO()\n",
    "    active_ads_views.to_csv(active_ads_views_csv, index=False)\n",
    "\n",
    "    #guardo temporalmente los archivos \n",
    "    client = boto3.client('s3',region_name='us-east-1', aws_access_key_id=ACCESS_KEY, aws_secret_access_key=SECRET_KEY)\n",
    "\n",
    "    client.put_object(Body=active_product_views_csv.getvalue().encode('utf-8'), Bucket=bucket, Key='active_product_views.csv')\n",
    "    client.put_object(Body=active_ads_views_csv.getvalue().encode('utf-8'), Bucket=bucket, Key='active_ads_views.csv')\n",
    "\n",
    "\n",
    "with DAG(\n",
    "    dag_id= \"analisis_datos_publicidad\",\n",
    "    start_date= datetime.datetime(2024, 4, 29),\n",
    "    schedule=timedelta(days=1),\n",
    "    catchup=False\n",
    "    ) as dag: \n",
    "    \n",
    "    filtrar_datos_task = PythonOperator(\n",
    "    task_id='filtrar_datos',\n",
    "    python_callable=filtrar_datos\n",
    ")"
   ]
  },
  {
   "cell_type": "code",
   "execution_count": 13,
   "metadata": {},
   "outputs": [],
   "source": [
    "save_to_bucket()"
   ]
  }
 ],
 "metadata": {
  "kernelspec": {
   "display_name": "tpenv",
   "language": "python",
   "name": "python3"
  },
  "language_info": {
   "codemirror_mode": {
    "name": "ipython",
    "version": 3
   },
   "file_extension": ".py",
   "mimetype": "text/x-python",
   "name": "python",
   "nbconvert_exporter": "python",
   "pygments_lexer": "ipython3",
   "version": "3.10.12"
  }
 },
 "nbformat": 4,
 "nbformat_minor": 2
}
