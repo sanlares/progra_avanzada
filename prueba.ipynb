{
 "cells": [
  {
   "cell_type": "code",
   "execution_count": 12,
   "metadata": {},
   "outputs": [
    {
     "data": {
      "text/plain": [
       "'def filtrar_datos():\\n            advertisers_activos = pd.read_csv(\"advertiser_ids\")\\n            product_view = pd.read_csv(\"product_view\")\\n            ads_views = pd.read_csv(\"ads_view\")\\n            active_product_views = product_view [product_view[\"advertiser_ids\"].isin(advertisers_activos[\"advertiser_ids\"])]\\n            active_ads_views = ads_views [ads_views[\"advertiser_ids\"].isin(advertisers_activos[\"advertiser_ids\"])]\\n    \\n    #guardo temporalmente los archivos \\n            active_product_views.to_csv(\"/wsl.localhost/Ubuntu-22.04/home/martina/mi_proyecto/active_product_views.csv\", index=False)\\n            active_ads_views.to_csv(\"/wsl.localhost/Ubuntu-22.04/home/martina/mi_proyecto/active_ads_views.csv\", index=False)\\n       \\n\\n\\n\\nwith DAG(\\n    dag_id= \"analisis_datos_publicidad\",\\n    start_date= datetime.datetime(2024, 4, 29),\\n    schedule=timedelta(days=1),\\n    catchup=False\\n    ) as dag: \\n    \\n    filtrar_datos_task = PythonOperator(\\n    task_id=\\'filtrar_datos\\',\\n    python_callable=filtrar_datos\\n)'"
      ]
     },
     "execution_count": 12,
     "metadata": {},
     "output_type": "execute_result"
    }
   ],
   "source": [
    "#esqueleto del DAG\n",
    "from datetime import datetime, timedelta\n",
    "import datetime\n",
    "from airflow.models.dag import DAG\n",
    "from airflow.operators.python import PythonOperator\n",
    "import pandas as pd\n",
    "\n",
    "\n",
    "#Definimos las tareas\n",
    "# tarea nro 1 filtrar los datos \n",
    "\n",
    "def filtrar_datos():\n",
    "            advertisers_activos = pd.read_csv(\"data/advertiser_ids.csv\")\n",
    "            product_view = pd.read_csv(\"data/product_views.csv\")\n",
    "            ads_views = pd.read_csv(\"data/ads_views.csv\")\n",
    "            active_product_views = product_view [product_view[\"advertiser_id\"].isin(advertisers_activos[\"advertiser_id\"])]\n",
    "            active_ads_views = ads_views [ads_views[\"advertiser_id\"].isin(advertisers_activos[\"advertiser_id\"])]\n",
    "    \n",
    "    #guardo temporalmente los archivos \n",
    "            active_product_views.to_csv(\"data/active_product_views.csv\", index=False)\n",
    "            active_ads_views.to_csv(\"data/active_ads_views.csv\", index=False)\n",
    "\n",
    "\n",
    "with DAG(\n",
    "    dag_id= \"analisis_datos_publicidad\",\n",
    "    start_date= datetime.datetime(2024, 4, 29),\n",
    "    schedule=timedelta(days=1),\n",
    "    catchup=False\n",
    "    ) as dag: \n",
    "    \n",
    "    filtrar_datos_task = PythonOperator(\n",
    "    task_id='filtrar_datos',\n",
    "    python_callable=filtrar_datos\n",
    ")"
   ]
  },
  {
   "cell_type": "code",
   "execution_count": 21,
   "metadata": {},
   "outputs": [],
   "source": [
    "import boto3 \n",
    "import pandas as pd\n",
    "ACCESS_KEY = '' \n",
    "SECRET_KEY = ''\n",
    "s3 = boto3.client( 's3',region_name='us-east-1', aws_access_key_id=ACCESS_KEY, aws_secret_access_key=SECRET_KEY)\n",
    "bucket_name = 'tpprogra' \n",
    "\n",
    "ads_views = 'ads_views.csv'\n",
    "file_object_ads_views = s3.get_object(Bucket=bucket_name, Key=ads_views) \n",
    "df_ads_views = pd.read_csv(file_object_ads_views['Body'])\n"
   ]
  },
  {
   "cell_type": "code",
   "execution_count": 19,
   "metadata": {},
   "outputs": [],
   "source": [
    "\n",
    "advertiser_ids = 'advertiser_ids.csv'\n",
    "file_object_advertiser_ids = s3.get_object(Bucket=bucket_name, Key=advertiser_ids) \n",
    "df_adverts = pd.read_csv(file_object_advertiser_ids['Body'])\n"
   ]
  },
  {
   "cell_type": "code",
   "execution_count": 20,
   "metadata": {},
   "outputs": [],
   "source": [
    "\n",
    "product_views = 'product_views.csv'\n",
    "file_object_product_views = s3.get_object(Bucket=bucket_name, Key=product_views) \n",
    "df_products = pd.read_csv(file_object_product_views['Body'])\n"
   ]
  },
  {
   "cell_type": "code",
   "execution_count": 18,
   "metadata": {},
   "outputs": [
    {
     "name": "stdout",
     "output_type": "stream",
     "text": [
      "              advertiser_id product_id        type        date\n",
      "0      5E325T5HYL61QSABVR5V     nkbcq8  impression  2024-04-15\n",
      "1      OAGTYWN8WFC997VLDJH7     3upg35  impression  2024-04-15\n",
      "2      8C88YB6E8YCGWU07HA7A     mdxnl9  impression  2024-04-15\n",
      "3      2WPF1NXECF3G6NUMWDO7     3oe469  impression  2024-04-15\n",
      "4      K6Z0X85ZUY0TSF4RCG5J     zy2hpv  impression  2024-04-15\n",
      "...                     ...        ...         ...         ...\n",
      "99995  M0LU6DCI1WILGQBZ6808     brsrdg  impression  2024-04-30\n",
      "99996  62FIK8F2YT8JSFDBLEC9     aee2vx  impression  2024-04-30\n",
      "99997  KD9PHCBGYFBRI9ET1O9R     g7ml6l  impression  2024-04-30\n",
      "99998  8C88YB6E8YCGWU07HA7A     j6v398  impression  2024-04-30\n",
      "99999  8C88YB6E8YCGWU07HA7A     mqlyg3  impression  2024-04-30\n",
      "\n",
      "[100000 rows x 4 columns]\n"
     ]
    }
   ],
   "source": [
    "print(df_ads_views)"
   ]
  }
 ],
 "metadata": {
  "kernelspec": {
   "display_name": "tpenv",
   "language": "python",
   "name": "python3"
  },
  "language_info": {
   "codemirror_mode": {
    "name": "ipython",
    "version": 3
   },
   "file_extension": ".py",
   "mimetype": "text/x-python",
   "name": "python",
   "nbconvert_exporter": "python",
   "pygments_lexer": "ipython3",
   "version": "3.10.12"
  }
 },
 "nbformat": 4,
 "nbformat_minor": 2
}
